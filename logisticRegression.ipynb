{
 "cells": [
  {
   "cell_type": "markdown",
   "metadata": {},
   "source": [
    "### Importations"
   ]
  },
  {
   "cell_type": "code",
   "execution_count": 1,
   "metadata": {},
   "outputs": [],
   "source": [
    "import numpy as np\n",
    "import matplotlib.pyplot as plt\n",
    "import pandas as pd\n",
    "import seaborn as sns"
   ]
  },
  {
   "cell_type": "markdown",
   "metadata": {},
   "source": [
    "## Inserting the data"
   ]
  },
  {
   "cell_type": "code",
   "execution_count": 2,
   "metadata": {},
   "outputs": [
    {
     "name": "stdout",
     "output_type": "stream",
     "text": [
      "(20,)\n",
      "(20,)\n"
     ]
    }
   ],
   "source": [
    "X = np.asarray ([[0.50], [0.75], [1.00], [1.25], [1.50], [1.75], [3.00], [4.75],[1.75], [3.25], [5.00], [2.00], [2.25], [2.50], [2.75], [3.50], [4.00], [4.25],[4.50], [5.50]])\n",
    "\n",
    "y = np.asarray([0, 0, 0, 0, 0, 0, 1, 0, 1, 0, 1,0,1,0,1,1,1,1,1,1])\n",
    "\n",
    "x = X[:, 0]\n",
    "print(x.shape)\n",
    "print(y.shape)"
   ]
  },
  {
   "cell_type": "markdown",
   "metadata": {},
   "source": [
    "## Graphing the data"
   ]
  },
  {
   "cell_type": "code",
   "execution_count": 3,
   "metadata": {},
   "outputs": [
    {
     "name": "stderr",
     "output_type": "stream",
     "text": [
      "C:\\Users\\hkiro\\AppData\\Local\\conda\\conda\\envs\\ski\\lib\\site-packages\\seaborn\\_decorators.py:43: FutureWarning: Pass the following variables as keyword args: x, y. From version 0.12, the only valid positional argument will be `data`, and passing other arguments without an explicit keyword will result in an error or misinterpretation.\n",
      "  FutureWarning\n"
     ]
    },
    {
     "data": {
      "text/plain": [
       "<function matplotlib.pyplot.show(close=None, block=None)>"
      ]
     },
     "execution_count": 3,
     "metadata": {},
     "output_type": "execute_result"
    },
    {
     "data": {
      "image/png": "[encoded data removed]",
      "text/plain": [
       "<Figure size 432x288 with 1 Axes>"
      ]
     },
     "metadata": {
      "needs_background": "light"
     },
     "output_type": "display_data"
    }
   ],
   "source": [
    "x_axis = 'Hours studied'\n",
    "y_axis = 'Passed or Not'\n",
    "\n",
    "graph = sns.stripplot(x, y)\n",
    "graph.set(xlabel = x_axis, ylabel = y_axis)\n",
    "\n",
    "plt.title('Hours studied by passes')\n",
    "\n",
    "plt.show"
   ]
  },
  {
   "cell_type": "markdown",
   "metadata": {},
   "source": [
    "## Weights and bias initialisation"
   ]
  },
  {
   "cell_type": "code",
   "execution_count": 12,
   "metadata": {},
   "outputs": [],
   "source": [
    "def initial_theta_bias(samples):\n",
    "    '''This function creates the inital weights at 1 and the initalial bias at nothing'''\n",
    "    theta = np.zeros((samples.shape[0],samples.shape[1])) #Creating tuples to store the wieghts and bias\n",
    "    bias = 0 #Setting bias to zeros\n",
    "    return theta,bias"
   ]
  },
  {
   "cell_type": "code",
   "execution_count": 13,
   "metadata": {},
   "outputs": [
    {
     "name": "stdout",
     "output_type": "stream",
     "text": [
      "[[0.]\n",
      " [0.]\n",
      " [0.]\n",
      " [0.]\n",
      " [0.]\n",
      " [0.]\n",
      " [0.]\n",
      " [0.]\n",
      " [0.]\n",
      " [0.]\n",
      " [0.]\n",
      " [0.]\n",
      " [0.]\n",
      " [0.]\n",
      " [0.]\n",
      " [0.]\n",
      " [0.]\n",
      " [0.]\n",
      " [0.]\n",
      " [0.]] 0\n"
     ]
    }
   ],
   "source": [
    "#Test Delete later\n",
    "a,b = initial_theta_bias(X)\n",
    "print(a,b)"
   ]
  },
  {
   "cell_type": "markdown",
   "metadata": {},
   "source": [
    "## Sigmoid Equation\n",
    "\n",
    "### $\\frac{1}{1 + e^{-z}}$"
   ]
  },
  {
   "cell_type": "code",
   "execution_count": 16,
   "metadata": {},
   "outputs": [],
   "source": [
    "def sigmoid(data):\n",
    "    '''Calculates the sigmoid of a np array'''\n",
    "    return 1/(1+np.exp(-data)) # Just return the sigmoid"
   ]
  },
  {
   "cell_type": "code",
   "execution_count": 18,
   "metadata": {},
   "outputs": [
    {
     "name": "stdout",
     "output_type": "stream",
     "text": [
      "[0.5        0.73105858]\n"
     ]
    }
   ],
   "source": [
    "#Test Delete later\n",
    "test_x = np.array([0.25,0.75])\n",
    "test_y = np.array([0,1])\n",
    "print(sigmoid(short))"
   ]
  },
  {
   "cell_type": "code",
   "execution_count": 31,
   "metadata": {},
   "outputs": [],
   "source": [
    "def cost_func(hyp,y,num_sample):\n",
    "    '''This calculates the cost function for logistic regression and nothing else'''\n",
    "    return (-1/2*(2)) * (np.sum((test_y.T*np.log(test_x)) + ((1-test_y.T)*(np.log(1 - test_x)))))"
   ]
  },
  {
   "cell_type": "code",
   "execution_count": 27,
   "metadata": {},
   "outputs": [
    {
     "name": "stdout",
     "output_type": "stream",
     "text": [
      "0.5753641449035618\n",
      "0.5753641449035618\n"
     ]
    }
   ],
   "source": [
    "#Test Delete later\n",
    "\n",
    "print(cost_func(test_x,test_y,2))\n",
    "print(cost)"
   ]
  },
  {
   "cell_type": "markdown",
   "metadata": {},
   "source": [
    "## Cost Function"
   ]
  },
  {
   "cell_type": "code",
   "execution_count": 32,
   "metadata": {},
   "outputs": [],
   "source": [
    "def update(theta,bias,samples,outputs):\n",
    "    '''This is the update method which is worked out by firstly comming up with the hypothisis for the current model\n",
    "    then works out the difference and the calculates the derivative of the difference and the bias'''\n",
    "    num_samples = samples.shape[0]\n",
    "    \n",
    "    hypothisis = sigmoid(np.dot(theta,samples.T) + bias)\n",
    "    \n",
    "    cost = cost_func(hypothisis,outputs,num_samples)\n",
    "    \n",
    "    derivative_theta = (1/num_samples) * (np.dot(samples.T, (hypothisis - outputs.T).T))\n",
    "    derivative_bias = (1/num_samples) * (np.sum(hypothisis - outputs.T))                      \n",
    "    \n",
    "    return cost, derivative_theta, derivative_bias"
   ]
  },
  {
   "cell_type": "code",
   "execution_count": null,
   "metadata": {},
   "outputs": [],
   "source": [
    "\n",
    "    "
   ]
  }
 ],
 "metadata": {
  "kernelspec": {
   "display_name": "Python 3",
   "language": "python",
   "name": "python3"
  },
  "language_info": {
   "codemirror_mode": {
    "name": "ipython",
    "version": 3
   },
   "file_extension": ".py",
   "mimetype": "text/x-python",
   "name": "python",
   "nbconvert_exporter": "python",
   "pygments_lexer": "ipython3",
   "version": "3.6.7"
  }
 },
 "nbformat": 4,
 "nbformat_minor": 4
}
