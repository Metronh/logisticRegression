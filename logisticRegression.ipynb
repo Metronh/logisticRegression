{
 "cells": [
  {
   "cell_type": "markdown",
   "metadata": {},
   "source": [
    "### Importations"
   ]
  },
  {
   "cell_type": "code",
   "execution_count": 1,
   "metadata": {},
   "outputs": [],
   "source": [
    "import numpy as np\n",
    "import matplotlib.pyplot as plt\n",
    "import pandas as pd\n",
    "import seaborn as sns"
   ]
  },
  {
   "cell_type": "markdown",
   "metadata": {},
   "source": [
    "## Inserting the data"
   ]
  },
  {
   "cell_type": "code",
   "execution_count": 2,
   "metadata": {},
   "outputs": [
    {
     "name": "stdout",
     "output_type": "stream",
     "text": [
      "(1,)\n",
      "[[0.   0.   0.   0.   0.   0.   3.   0.   1.75 0.   5.   0.   2.25 0.\n",
      "  2.75 3.5  4.   4.25 4.5  5.5 ]]\n",
      "(20,)\n"
     ]
    }
   ],
   "source": [
    "X = np.asarray ([[0.50], [0.75], [1.00], [1.25], [1.50], [1.75], [3.00], [4.75],[1.75], [3.25], [5.00], [2.00], [2.25], [2.50], [2.75], [3.50], [4.00], [4.25],[4.50], [5.50]])\n",
    "\n",
    "y = np.asarray([0, 0, 0, 0, 0, 0, 1, 0, 1, 0, 1,0,1,0,1,1,1,1,1,1])\n",
    "\n",
    "print(X[0].shape)\n",
    "print(X.T * y)\n",
    "print(y.shape)"
   ]
  },
  {
   "cell_type": "markdown",
   "metadata": {},
   "source": [
    "## Graphing the data"
   ]
  },
  {
   "cell_type": "code",
   "execution_count": 3,
   "metadata": {},
   "outputs": [
    {
     "name": "stderr",
     "output_type": "stream",
     "text": [
      "C:\\Users\\hkiro\\AppData\\Local\\conda\\conda\\envs\\ski\\lib\\site-packages\\seaborn\\_decorators.py:43: FutureWarning: Pass the following variables as keyword args: x, y. From version 0.12, the only valid positional argument will be `data`, and passing other arguments without an explicit keyword will result in an error or misinterpretation.\n",
      "  FutureWarning\n"
     ]
    },
    {
     "data": {
      "text/plain": [
       "<function matplotlib.pyplot.show(close=None, block=None)>"
      ]
     },
     "execution_count": 3,
     "metadata": {},
     "output_type": "execute_result"
    },
    {
     "data": {
      "image/png": "[encoded data removed]",
      "text/plain": [
       "<Figure size 432x288 with 1 Axes>"
      ]
     },
     "metadata": {
      "needs_background": "light"
     },
     "output_type": "display_data"
    }
   ],
   "source": [
    "x_axis = 'Hours studied'\n",
    "y_axis = 'Passed or Not'\n",
    "\n",
    "graph = sns.stripplot(X[:,0], y)\n",
    "graph.set(xlabel = x_axis, ylabel = y_axis)\n",
    "\n",
    "plt.title('Hours studied by passes')\n",
    "\n",
    "plt.show"
   ]
  },
  {
   "cell_type": "markdown",
   "metadata": {},
   "source": [
    "## Weights and bias initialisation"
   ]
  },
  {
   "cell_type": "code",
   "execution_count": 4,
   "metadata": {},
   "outputs": [],
   "source": [
    "def initial_theta_bias(features):\n",
    "    '''This function creates the inital weights at 1 and the initalial bias at nothing'''\n",
    "    theta = np.zeros(features.shape[1]) #Creating tuples to store the wieghts and bias\n",
    "    bias = 0 #Setting bias to zeros\n",
    "    return theta,bias"
   ]
  },
  {
   "cell_type": "code",
   "execution_count": 5,
   "metadata": {},
   "outputs": [
    {
     "name": "stdout",
     "output_type": "stream",
     "text": [
      "(1,)\n",
      "[0.] 0\n"
     ]
    }
   ],
   "source": [
    "#Test Delete later\n",
    "print(X[0].shape)\n",
    "a,b = initial_theta_bias(X)\n",
    "\n",
    "print(a,b)"
   ]
  },
  {
   "cell_type": "markdown",
   "metadata": {},
   "source": [
    "## Sigmoid Equation\n",
    "\n",
    "### $\\frac{1}{1 + e^{-z}}$"
   ]
  },
  {
   "cell_type": "code",
   "execution_count": 6,
   "metadata": {},
   "outputs": [],
   "source": [
    "def sigmoid(data):\n",
    "    '''Calculates the sigmoid of a np array'''\n",
    "    return 1/(1+np.exp(-data)) # Just return the sigmoid"
   ]
  },
  {
   "cell_type": "code",
   "execution_count": 7,
   "metadata": {},
   "outputs": [
    {
     "name": "stdout",
     "output_type": "stream",
     "text": [
      "[0.5621765 0.6791787]\n"
     ]
    }
   ],
   "source": [
    "#Test Delete later\n",
    "test_x = np.array([0.25,0.75])\n",
    "test_y = np.array([0,1])\n",
    "print(sigmoid(test_x))"
   ]
  },
  {
   "cell_type": "code",
   "execution_count": 8,
   "metadata": {},
   "outputs": [],
   "source": [
    "def cost_func(hyp,y,num_sample):\n",
    "    y_transposed = y.T\n",
    "    '''This calculates the cost function for logistic regression and nothing else'''\n",
    "    return (-1/num_sample) * (np.sum((y_transposed * np.log(hyp)) + ((1 - y_transposed) * (np.log(1 - hyp)))))"
   ]
  },
  {
   "cell_type": "markdown",
   "metadata": {},
   "source": [
    "## Cost Function"
   ]
  },
  {
   "cell_type": "code",
   "execution_count": 9,
   "metadata": {},
   "outputs": [],
   "source": [
    "def update(theta,bias,x,y):\n",
    "    '''This is the update method which is worked out by firstly comming up with the hypothisis for the current model\n",
    "    then works out the difference and the calculates the derivative of the difference and the bias'''\n",
    "    num_samples = x.shape[0]\n",
    "    \n",
    "\n",
    "    hypothisis = sigmoid(np.dot(theta,x.T) + bias)\n",
    "    \n",
    "\n",
    "    cost = cost_func(hypothisis,y,num_samples)\n",
    "    \n",
    "    \n",
    "    derivative_theta = (1/num_samples) * (np.dot(x.T, (hypothisis - y.T).T))\n",
    "    derivative_bias = (1/num_samples) * (np.sum(hypothisis - y.T))                      \n",
    "    \n",
    "    return cost, derivative_theta, derivative_bias"
   ]
  },
  {
   "cell_type": "markdown",
   "metadata": {},
   "source": [
    "## Main part"
   ]
  },
  {
   "cell_type": "code",
   "execution_count": 10,
   "metadata": {},
   "outputs": [],
   "source": [
    "def main(theta, bias, x, y , learning_rate, iterations):\n",
    "    \n",
    "    costs = []\n",
    "    \n",
    "    for i in range(iterations):\n",
    "        cost, dw, db = update(theta,bias, x,y)\n",
    "        \n",
    "        theta = theta - (learning_rate * (dw.T))\n",
    "        bias = bias - (learning_rate * db.T)\n",
    "        \n",
    "        if(i % 100 == 0):\n",
    "            costs.append(cost)\n",
    "            print(\"Cost after %i iteration is %f\" %(i, cost))\n",
    "        \n",
    "    return theta, bias, costs\n",
    "        "
   ]
  },
  {
   "cell_type": "code",
   "execution_count": 11,
   "metadata": {},
   "outputs": [],
   "source": [
    "w, b = initial_theta_bias(X)"
   ]
  },
  {
   "cell_type": "code",
   "execution_count": 12,
   "metadata": {},
   "outputs": [
    {
     "name": "stdout",
     "output_type": "stream",
     "text": [
      "Cost after 0 iteration is 0.693147\n",
      "Cost after 100 iteration is 0.678424\n",
      "Cost after 200 iteration is 0.669222\n",
      "Cost after 300 iteration is 0.663230\n",
      "Cost after 400 iteration is 0.659116\n",
      "Cost after 500 iteration is 0.656112\n",
      "Cost after 600 iteration is 0.653770\n",
      "Cost after 700 iteration is 0.651829\n",
      "Cost after 800 iteration is 0.650134\n",
      "Cost after 900 iteration is 0.648594\n"
     ]
    }
   ],
   "source": [
    "w,b,costs = main(w,b,X,y,0.001,1000)\n",
    "\n"
   ]
  }
 ],
 "metadata": {
  "kernelspec": {
   "display_name": "Python 3",
   "language": "python",
   "name": "python3"
  },
  "language_info": {
   "codemirror_mode": {
    "name": "ipython",
    "version": 3
   },
   "file_extension": ".py",
   "mimetype": "text/x-python",
   "name": "python",
   "nbconvert_exporter": "python",
   "pygments_lexer": "ipython3",
   "version": "3.6.7"
  }
 },
 "nbformat": 4,
 "nbformat_minor": 4
}
