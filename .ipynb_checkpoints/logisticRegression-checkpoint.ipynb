{
 "cells": [
  {
   "cell_type": "markdown",
   "metadata": {},
   "source": [
    "### Importations"
   ]
  },
  {
   "cell_type": "code",
   "execution_count": 1,
   "metadata": {},
   "outputs": [],
   "source": [
    "import numpy as np\n",
    "import matplotlib.pyplot as plt\n",
    "import pandas as pd\n",
    "import seaborn as sns\n",
    "sns.set_theme(style=\"darkgrid\")"
   ]
  },
  {
   "cell_type": "markdown",
   "metadata": {},
   "source": [
    "## Inserting the data"
   ]
  },
  {
   "cell_type": "code",
   "execution_count": 2,
   "metadata": {},
   "outputs": [
    {
     "name": "stdout",
     "output_type": "stream",
     "text": [
      "(1,)\n",
      "[[0.   0.   0.   0.   0.   0.   3.   0.   1.75 0.   5.   0.   2.25 0.\n",
      "  2.75 3.5  4.   4.25 4.5  5.5 ]]\n",
      "(20,)\n"
     ]
    }
   ],
   "source": [
    "X = np.asarray ([[0.50], [0.75], [1.00], [1.25], [1.50], [1.75], [3.00], [4.75],[1.75], [3.25], [5.00], [2.00], [2.25], [2.50], [2.75], [3.50], [4.00], [4.25],[4.50], [5.50]])\n",
    "\n",
    "y = np.asarray([0, 0, 0, 0, 0, 0, 1, 0, 1, 0, 1,0,1,0,1,1,1,1,1,1])\n",
    "\n",
    "print(X[0].shape)\n",
    "print(X.T * y)\n",
    "print(y.shape)"
   ]
  },
  {
   "cell_type": "markdown",
   "metadata": {},
   "source": [
    "## Graphing the data"
   ]
  },
  {
   "cell_type": "code",
   "execution_count": 3,
   "metadata": {},
   "outputs": [
    {
     "name": "stderr",
     "output_type": "stream",
     "text": [
      "C:\\Users\\sword\\anaconda3\\envs\\tf\\lib\\site-packages\\seaborn\\_decorators.py:43: FutureWarning: Pass the following variables as keyword args: x, y. From version 0.12, the only valid positional argument will be `data`, and passing other arguments without an explicit keyword will result in an error or misinterpretation.\n",
      "  FutureWarning\n"
     ]
    },
    {
     "data": {
      "text/plain": [
       "<function matplotlib.pyplot.show(close=None, block=None)>"
      ]
     },
     "execution_count": 3,
     "metadata": {},
     "output_type": "execute_result"
    },
    {
     "data": {
      "image/png": "[encoded data removed]",
      "text/plain": [
       "<Figure size 432x288 with 1 Axes>"
      ]
     },
     "metadata": {},
     "output_type": "display_data"
    }
   ],
   "source": [
    "x_axis = 'Hours studied'\n",
    "y_axis = 'Passed or Not'\n",
    "\n",
    "graph = sns.stripplot(X[:,0], y)\n",
    "graph.set(xlabel = x_axis, ylabel = y_axis)\n",
    "\n",
    "plt.title('Hours studied by passes')\n",
    "\n",
    "plt.show"
   ]
  },
  {
   "cell_type": "markdown",
   "metadata": {},
   "source": [
    "## Weights and bias initialisation"
   ]
  },
  {
   "cell_type": "code",
   "execution_count": 4,
   "metadata": {},
   "outputs": [],
   "source": [
    "def initial_theta_bias(features):\n",
    "    '''This function creates the inital weights at 1 and the initalial bias at nothing'''\n",
    "    theta = np.zeros(features.shape[1]) #Creating tuples to store the wieghts and bias\n",
    "    bias = 0 #Setting bias to zero\n",
    "    return theta,bias"
   ]
  },
  {
   "cell_type": "markdown",
   "metadata": {},
   "source": [
    "## Sigmoid Equation\n",
    "\n",
    "### $\\frac{1}{1 + e^{-z}}$"
   ]
  },
  {
   "cell_type": "code",
   "execution_count": 5,
   "metadata": {},
   "outputs": [],
   "source": [
    "def sigmoid(data):\n",
    "    '''Calculates the sigmoid of a np array'''\n",
    "    return 1/(1+np.exp(-data)) # Just return the sigmoid"
   ]
  },
  {
   "cell_type": "markdown",
   "metadata": {},
   "source": [
    "## Cost Function"
   ]
  },
  {
   "cell_type": "code",
   "execution_count": 6,
   "metadata": {},
   "outputs": [],
   "source": [
    "def cost_func(hyp,y,num_sample):\n",
    "    '''This calculates the cost function for logistic regression and nothing else'''\n",
    "    y_transposed = y.T\n",
    "    return (-1/num_sample) * (np.sum((y_transposed * np.log(hyp)) + ((1 - y_transposed) * (np.log(1 - hyp)))))"
   ]
  },
  {
   "cell_type": "markdown",
   "metadata": {},
   "source": [
    "## Updating param"
   ]
  },
  {
   "cell_type": "code",
   "execution_count": 7,
   "metadata": {},
   "outputs": [],
   "source": [
    "def update(theta,bias,x,y):\n",
    "    '''This is the update method which is worked out by firstly comming up with the hypothisis for the current model\n",
    "    then works out the difference and the calculates the derivative of the difference and the bias'''\n",
    "    num_samples = x.shape[0] #Storing the number of samples\n",
    "    \n",
    "\n",
    "    hypothisis = sigmoid(np.dot(theta,x.T) + bias) #Calculating the hypothisis value\n",
    "    \n",
    "\n",
    "    cost = cost_func(hypothisis,y,num_samples) #Working out the cost function\n",
    "    \n",
    "    \n",
    "    derivative_theta = (1/num_samples) * (np.dot(x.T, (hypothisis - y.T).T)) #Working out the dervative of theta\n",
    "    derivative_bias = (1/num_samples) * (np.sum(hypothisis - y.T))           #Working out the dervative of bias           \n",
    "    \n",
    "    return cost, derivative_theta, derivative_bias"
   ]
  },
  {
   "cell_type": "markdown",
   "metadata": {},
   "source": [
    "## Trainer part"
   ]
  },
  {
   "cell_type": "code",
   "execution_count": 8,
   "metadata": {},
   "outputs": [],
   "source": [
    "def train(theta, bias, x, y , learning_rate, iterations,every):\n",
    "    '''takes inital weights and bias works out the cost and dervatives then updates the weights and stores the current \n",
    "    costs for iteration number of iterations'''\n",
    "    costs = [] #Storing the costs\n",
    "    \n",
    "    for i in range(iterations): #Run iterations number of times\n",
    "        cost, dw, db = update(theta,bias, x,y)#Calls the update function and gets costs and derivative of weights \n",
    "        #bias\n",
    "        #Update the weights and bias:\n",
    "        theta = theta - (learning_rate * (dw.T))\n",
    "        bias = bias - (learning_rate * db.T)\n",
    "        #Storing the costs:\n",
    "        if(i % every == 0):\n",
    "            costs.append(cost)\n",
    "        \n",
    "    return theta, bias, costs\n",
    "        "
   ]
  },
  {
   "cell_type": "code",
   "execution_count": 9,
   "metadata": {},
   "outputs": [],
   "source": [
    "def predictor(X_pred,weights,bias):\n",
    "    '''Works out the prediction of the model based on weights and bias'''\n",
    "    y_prediction = np.zeros((1,X_pred.shape[0])) #Place to store the predictions\n",
    "    for i in range(X_pred.shape[0]): \n",
    "        if(sigmoid(np.dot(weights,X_pred[i].T)+b) > 0.5): #Working out the sigmoid of the solution and checks if \n",
    "            #larger than 0.5 and therefore 1 or smaller than 0.5 therefore remains zero\n",
    "            y_prediction[i] = 1 #Puts the result in the array\n",
    "            \n",
    "    return y_prediction"
   ]
  },
  {
   "cell_type": "markdown",
   "metadata": {},
   "source": [
    "### Explaination"
   ]
  },
  {
   "cell_type": "markdown",
   "metadata": {},
   "source": [
    "This works by firstly initalising at 0 empty weights and bias which use by using the initial theta bias. Next is the sigmoid which is just a helper function that works out the sigmoid of a number. \n",
    "\n",
    "Now the main part starting "
   ]
  },
  {
   "cell_type": "code",
   "execution_count": 23,
   "metadata": {},
   "outputs": [],
   "source": [
    "w_init, b_init = initial_theta_bias(X)"
   ]
  },
  {
   "cell_type": "markdown",
   "metadata": {},
   "source": [
    "### Questions"
   ]
  },
  {
   "cell_type": "markdown",
   "metadata": {},
   "source": [
    " ### 1"
   ]
  },
  {
   "cell_type": "code",
   "execution_count": 11,
   "metadata": {},
   "outputs": [],
   "source": [
    "w_1,b_1,costs_1 = train(w_init,b_init,X,y,0.001,50000,1000)"
   ]
  },
  {
   "cell_type": "code",
   "execution_count": 12,
   "metadata": {},
   "outputs": [
    {
     "data": {
      "text/plain": [
       "<AxesSubplot:>"
      ]
     },
     "execution_count": 12,
     "metadata": {},
     "output_type": "execute_result"
    },
    {
     "data": {
      "image/png": "[encoded data removed]",
      "text/plain": [
       "<Figure size 432x288 with 1 Axes>"
      ]
     },
     "metadata": {},
     "output_type": "display_data"
    }
   ],
   "source": [
    "sns.lineplot(x=range(0,50000,1000),y=costs_1)"
   ]
  },
  {
   "cell_type": "markdown",
   "metadata": {},
   "source": [
    "The cost function began to converge around the 10000 to 30000 mark as the gradient began to decrease dramaticly meaning the model is no longer learning from the data. "
   ]
  },
  {
   "cell_type": "markdown",
   "metadata": {},
   "source": [
    "### 2"
   ]
  },
  {
   "cell_type": "code",
   "execution_count": 21,
   "metadata": {},
   "outputs": [
    {
     "name": "stderr",
     "output_type": "stream",
     "text": [
      "C:\\Users\\sword\\anaconda3\\envs\\tf\\lib\\site-packages\\ipykernel_launcher.py:4: RuntimeWarning: divide by zero encountered in log\n",
      "  after removing the cwd from sys.path.\n",
      "C:\\Users\\sword\\anaconda3\\envs\\tf\\lib\\site-packages\\ipykernel_launcher.py:4: RuntimeWarning: invalid value encountered in multiply\n",
      "  after removing the cwd from sys.path.\n"
     ]
    }
   ],
   "source": [
    "w_2,b_2,costs_2 = train(w_init,b_init,X,y,10,50000,1000)"
   ]
  },
  {
   "cell_type": "code",
   "execution_count": 22,
   "metadata": {},
   "outputs": [
    {
     "data": {
      "text/plain": [
       "<AxesSubplot:>"
      ]
     },
     "execution_count": 22,
     "metadata": {},
     "output_type": "execute_result"
    },
    {
     "data": {
      "image/png": "[encoded data removed]",
      "text/plain": [
       "<Figure size 432x288 with 1 Axes>"
      ]
     },
     "metadata": {},
     "output_type": "display_data"
    }
   ],
   "source": [
    "sns.lineplot(x=range(0,50000,1000),y=costs_2)"
   ]
  },
  {
   "cell_type": "markdown",
   "metadata": {},
   "source": [
    "The the graph is occelating between both sides of the parabola for the loss thats why its not a smooth curve. This is causing the cost to not converge at the minima of the parobola."
   ]
  },
  {
   "cell_type": "markdown",
   "metadata": {},
   "source": [
    "### 3(A)"
   ]
  },
  {
   "cell_type": "markdown",
   "metadata": {},
   "source": [
    "I would use have three different hypothisis functions and paramaters to work out which class is most likely to belong in. This will be done using three different sets of bias and weights and which ever is the highest sigmoid return would be the most likely class. "
   ]
  },
  {
   "cell_type": "markdown",
   "metadata": {},
   "source": [
    "### 3(B)"
   ]
  },
  {
   "cell_type": "markdown",
   "metadata": {},
   "source": [
    "To do a multclass regression you will basically have three logistic regression functions which serve each class which goes as follows (Setosa vs non-Setosa, Versicolour vs non-Versicolour, Virginica vs non-Virginica). Therefore I would first have three sets of labels like so:\n",
    "y_setosa\n",
    "y_Versicolour\n",
    "y_Virginica\n",
    "\n",
    "And each label will be edited to keep the respective class and turn every other class to 0 this would make each one a binary between class and not in class. Then you will perform the whole task again three time but the main thing that will change is the predictor:\n",
    "\n",
    "\n",
    "\n",
    "\n"
   ]
  }
 ],
 "metadata": {
  "kernelspec": {
   "display_name": "Python 3",
   "language": "python",
   "name": "python3"
  },
  "language_info": {
   "codemirror_mode": {
    "name": "ipython",
    "version": 3
   },
   "file_extension": ".py",
   "mimetype": "text/x-python",
   "name": "python",
   "nbconvert_exporter": "python",
   "pygments_lexer": "ipython3",
   "version": "3.7.9"
  }
 },
 "nbformat": 4,
 "nbformat_minor": 4
}
